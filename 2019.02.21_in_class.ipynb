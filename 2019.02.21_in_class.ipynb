{
 "cells": [
  {
   "cell_type": "markdown",
   "metadata": {},
   "source": [
    "# Example - Plot blackbody curve"
   ]
  },
  {
   "cell_type": "markdown",
   "metadata": {},
   "source": [
    "$$B_\\nu(T) = \\frac{2hv^3}{c^2} \\times \\frac{1}{e^{\\frac{hv}{kT}}-1}$$"
   ]
  },
  {
   "cell_type": "code",
   "execution_count": null,
   "metadata": {},
   "outputs": [],
   "source": [
    "import numpy as np\n",
    "import matplotlib.pyplot as plt\n",
    "import math\n",
    "\n",
    "#SI unit\n",
    "h = 6.62*10**-34 #Planck constant\n",
    "c = 3*10**8      #speed of light\n",
    "k = 1.38*10**-23 #Boltzmann Constant JK^-1\n",
    "\n",
    "v = np.linspace(10**0, 10**15, 1000, endpoint=True)\n",
    "#print(v)\n",
    "\n",
    "T=float(input(\"Input temperature:\"))\n",
    "B=2*h*v**3/c**2/(math.e**(h*v/k/T)-1)\n",
    "#print(B)\n",
    "\n",
    "#plt.errorbar(v, B, yerr=0.5*B, xerr=0.1*v, ecolor=\"green\")\n",
    "\n",
    "#plt.plot(v, B,\"g.\")\n",
    "#plt.plot(v, B,\"r--\")\n",
    "plt.xlim(10**11, 10**15.2)\n",
    "plt.ylim(10**-14,10**-6)\n",
    "plt.plot(v,B,\".\")\n",
    "plt.xlabel(\"Frequency (Hz)\")\n",
    "plt.ylabel(\"Intensity Watts/Hz/m^2\")\n",
    "\n",
    "plt.show()                "
   ]
  },
  {
   "cell_type": "code",
   "execution_count": null,
   "metadata": {
    "collapsed": true
   },
   "outputs": [],
   "source": []
  },
  {
   "cell_type": "code",
   "execution_count": null,
   "metadata": {
    "collapsed": true
   },
   "outputs": [],
   "source": []
  }
 ],
 "metadata": {
  "kernelspec": {
   "display_name": "Python 3",
   "language": "python",
   "name": "python3"
  },
  "language_info": {
   "codemirror_mode": {
    "name": "ipython",
    "version": 3
   },
   "file_extension": ".py",
   "mimetype": "text/x-python",
   "name": "python",
   "nbconvert_exporter": "python",
   "pygments_lexer": "ipython3",
   "version": "3.6.3"
  }
 },
 "nbformat": 4,
 "nbformat_minor": 2
}
